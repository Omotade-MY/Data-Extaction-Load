{
 "cells": [
  {
   "cell_type": "markdown",
   "metadata": {},
   "source": [
    "### Introduction to Requests"
   ]
  },
  {
   "cell_type": "code",
   "execution_count": 4,
   "metadata": {},
   "outputs": [],
   "source": [
    "# -*- coding: utf-8 -*-\n",
    "\"\"\"\n",
    "Created on Mon May 16 19:54:44 2022\n",
    "\n",
    "@author: Omotade\n",
    "\"\"\"\n",
    "import requests\n",
    "from datetime import datetime\n",
    "import time\n",
    "from bs4 import BeautifulSoup\n",
    "import csv\n",
    "import os"
   ]
  },
  {
   "cell_type": "markdown",
   "metadata": {},
   "source": [
    "#### Scrape Crypto Data\n"
   ]
  },
  {
   "cell_type": "code",
   "execution_count": 5,
   "metadata": {},
   "outputs": [],
   "source": [
    "def scrape():\n",
    "    data = requests.get('https://www.coingecko.com/')\n",
    "    soup = BeautifulSoup(data.content, 'html.parser')\n",
    "    \n",
    "    return soup"
   ]
  },
  {
   "cell_type": "code",
   "execution_count": 6,
   "metadata": {},
   "outputs": [],
   "source": [
    "def get_coins(info={}):\n",
    "    \n",
    "    global cryptosoup\n",
    "    \n",
    "    cryptosoup = scrape()\n",
    "    coinnames = cryptosoup.select('a.d-lg-none.font-bold.tw-w-12')\n",
    "    coin_info = []\n",
    "    for coin in coinnames:\n",
    "        name = coin.text\n",
    "        href = coin.get('href')\n",
    "        \n",
    "        if href is not None:\n",
    "            href = href.strip().split('/')\n",
    "            Name = href[-1].title()\n",
    "            info = {'CoinName':Name}\n",
    "            \n",
    "        if name is not None:\n",
    "            name = name.strip()\n",
    "            info.update({'Symbol':name})\n",
    "            \n",
    "       \n",
    "        coin_info.append(info)\n",
    "\n",
    "    return coin_info"
   ]
  },
  {
   "cell_type": "code",
   "execution_count": 7,
   "metadata": {},
   "outputs": [],
   "source": [
    "def extract_prices():\n",
    "    \"\"\"Extracts the current price, 24thVolume and MarketCap\n",
    "    returns a list of dictionaries where each dictionary is for each coin\"\"\"\n",
    "    coin_info = get_coins()\n",
    "    now = datetime.now()\n",
    "    coinprices = cryptosoup.select('span.no-wrap')\n",
    "\n",
    "    prices = []\n",
    "    for price in coinprices:\n",
    "        coinprice = price.text\n",
    "        if coinprice is not None:\n",
    "            coinprice = coinprice.strip()\n",
    "\n",
    "            prices.append(coinprice)\n",
    "    start = 0\n",
    "    \n",
    "    # select 1h\n",
    "    tag = \"td.td-change1h.change1h.stat-percent.text-right.col-market\"\n",
    "    _1hs = cryptosoup.select(tag)\n",
    "    \n",
    "    # select 24\n",
    "    tag = \"td.td-change24h.change24h.stat-percent.text-right.col-market\"\n",
    "    _24hs = cryptosoup.select(tag)\n",
    "    \n",
    "    # select 7d\n",
    "    tag = \"td.td-change7d.change7d.stat-percent.text-right.col-market\"\n",
    "    _7ds = cryptosoup.select(tag)\n",
    "    \n",
    "    for i in range(len(prices)//3):\n",
    "        stop = (i+1) * 3\n",
    "\n",
    "        # Getting prices in groups of threes: This contain the current price, 24thvolume and Market cap\n",
    "        coin_prices = prices[start:stop]\n",
    "\n",
    "        # get each categoy of prices on the page for each coin\n",
    "        current = coin_prices[0]\n",
    "        \n",
    "        # get 1h\n",
    "        _1h = _1hs[i].select('span')[0].text.strip()\n",
    "        \n",
    "        # get 24h\n",
    "        _24h = _24hs[i].select('span')[0].text.strip()\n",
    "        \n",
    "        # get 7d \n",
    "        _7d = _7ds[i].select('span')[0].text.strip()\n",
    "        \n",
    "        # get 24h volume\n",
    "        volume = coin_prices[1]\n",
    "        \n",
    "        # get market cap\n",
    "        cap = coin_prices[2]\n",
    "        \n",
    "        \n",
    "\n",
    "        # make sure the next start point picks up at the previous stop point\n",
    "        start = stop\n",
    "        \n",
    "        \n",
    "        time = now.strftime('%Y/%m/%d %H:%M')\n",
    "        info = {'Time':time,'Price':current,\n",
    "                '1h':_1h, '24h':_24h, '7d':_7d,\n",
    "                '24h Volume': volume,\n",
    "                'MktCap': cap,\n",
    "                'Website':'https://www.coingecko.com/'}\n",
    "        \n",
    "        coin_info[i].update(info)\n",
    "        \n",
    "    return coin_info"
   ]
  },
  {
   "cell_type": "code",
   "execution_count": 8,
   "metadata": {},
   "outputs": [],
   "source": [
    "def to_csv(coindata, columns=None):\n",
    "    \n",
    "    if columns == None: \n",
    "        columns = coindata[0].keys()\n",
    "        \n",
    "    n = datetime.now()\n",
    "    n = n.strftime('%H-%M')\n",
    "    try:\n",
    "        os.mkdir('{}'.format(n))\n",
    "    except FileExistsError:\n",
    "        pass\n",
    "    \n",
    "    path = './'+ n + '/cryptocurrency.csv'\n",
    "    with open(path, 'w', newline='') as fp:\n",
    "        dict_writer = csv.DictWriter(fp, columns)\n",
    "        dict_writer.writeheader()\n",
    "        dict_writer.writerows(coindata)\n"
   ]
  },
  {
   "cell_type": "code",
   "execution_count": 9,
   "metadata": {},
   "outputs": [],
   "source": [
    "soup = scrape()"
   ]
  },
  {
   "cell_type": "code",
   "execution_count": 10,
   "metadata": {},
   "outputs": [
    {
     "data": {
      "text/plain": [
       "'td.td-change7d.change7d.stat-percent.text-right.col-market'"
      ]
     },
     "execution_count": 10,
     "metadata": {},
     "output_type": "execute_result"
    }
   ],
   "source": [
    "tag = \"td.td-change7d.change7d.stat-percent.text-right.col-market\"\n",
    "tag"
   ]
  },
  {
   "cell_type": "code",
   "execution_count": 9,
   "metadata": {},
   "outputs": [],
   "source": [
    "import datetime as dt"
   ]
  },
  {
   "cell_type": "code",
   "execution_count": 11,
   "metadata": {},
   "outputs": [],
   "source": [
    "now = time.localtime(time.time()).tm_min\n",
    "endtime = now + 2\n",
    "while True:\n",
    "    if time.localtime(time.time()).tm_min >= endtime:\n",
    "        break\n",
    "    \n",
    "    coindata = extract_prices()\n",
    "    columns = list(coindata[0].keys())\n",
    "    to_csv(coindata, columns)\n",
    "    \n",
    "    time.sleep(120)\n"
   ]
  },
  {
   "cell_type": "code",
   "execution_count": 1,
   "metadata": {},
   "outputs": [
    {
     "name": "stdout",
     "output_type": "stream",
     "text": [
      "Hello World\n"
     ]
    }
   ],
   "source": [
    "print(\"Hello World\")"
   ]
  },
  {
   "cell_type": "code",
   "execution_count": 11,
   "metadata": {},
   "outputs": [
    {
     "name": "stdout",
     "output_type": "stream",
     "text": [
      "sraped\n"
     ]
    }
   ],
   "source": [
    "coindata = extract_prices()\n",
    "columns = list(coindata[0].keys())\n",
    "print(\"sraped\")\n",
    "with open('crypto.csv', 'w', newline='') as fp:\n",
    "        dict_writer = csv.DictWriter(fp, columns)\n",
    "        dict_writer.writeheader()\n",
    "        dict_writer.writerows(coindata)\n"
   ]
  },
  {
   "cell_type": "code",
   "execution_count": 19,
   "metadata": {},
   "outputs": [
    {
     "data": {
      "text/html": [
       "<div>\n",
       "<style scoped>\n",
       "    .dataframe tbody tr th:only-of-type {\n",
       "        vertical-align: middle;\n",
       "    }\n",
       "\n",
       "    .dataframe tbody tr th {\n",
       "        vertical-align: top;\n",
       "    }\n",
       "\n",
       "    .dataframe thead th {\n",
       "        text-align: right;\n",
       "    }\n",
       "</style>\n",
       "<table border=\"1\" class=\"dataframe\">\n",
       "  <thead>\n",
       "    <tr style=\"text-align: right;\">\n",
       "      <th></th>\n",
       "      <th>CoinName</th>\n",
       "      <th>Coin</th>\n",
       "      <th>Time</th>\n",
       "      <th>Price</th>\n",
       "      <th>Website</th>\n",
       "    </tr>\n",
       "  </thead>\n",
       "  <tbody>\n",
       "    <tr>\n",
       "      <th>0</th>\n",
       "      <td>Bitcoin</td>\n",
       "      <td>BTC</td>\n",
       "      <td>2022:05:16:20:34</td>\n",
       "      <td>$29,809.70</td>\n",
       "      <td>https://www.coingecko.com/</td>\n",
       "    </tr>\n",
       "    <tr>\n",
       "      <th>1</th>\n",
       "      <td>Ethereum</td>\n",
       "      <td>ETH</td>\n",
       "      <td>2022:05:16:20:34</td>\n",
       "      <td>$2,028.01</td>\n",
       "      <td>https://www.coingecko.com/</td>\n",
       "    </tr>\n",
       "    <tr>\n",
       "      <th>2</th>\n",
       "      <td>Tether</td>\n",
       "      <td>USDT</td>\n",
       "      <td>2022:05:16:20:34</td>\n",
       "      <td>$1.00</td>\n",
       "      <td>https://www.coingecko.com/</td>\n",
       "    </tr>\n",
       "    <tr>\n",
       "      <th>3</th>\n",
       "      <td>Usd-Coin</td>\n",
       "      <td>USDC</td>\n",
       "      <td>2022:05:16:20:34</td>\n",
       "      <td>$1.00</td>\n",
       "      <td>https://www.coingecko.com/</td>\n",
       "    </tr>\n",
       "    <tr>\n",
       "      <th>4</th>\n",
       "      <td>Bnb</td>\n",
       "      <td>BNB</td>\n",
       "      <td>2022:05:16:20:34</td>\n",
       "      <td>$299.57</td>\n",
       "      <td>https://www.coingecko.com/</td>\n",
       "    </tr>\n",
       "  </tbody>\n",
       "</table>\n",
       "</div>"
      ],
      "text/plain": [
       "   CoinName  Coin              Time       Price                     Website\n",
       "0   Bitcoin   BTC  2022:05:16:20:34  $29,809.70  https://www.coingecko.com/\n",
       "1  Ethereum   ETH  2022:05:16:20:34   $2,028.01  https://www.coingecko.com/\n",
       "2    Tether  USDT  2022:05:16:20:34       $1.00  https://www.coingecko.com/\n",
       "3  Usd-Coin  USDC  2022:05:16:20:34       $1.00  https://www.coingecko.com/\n",
       "4       Bnb   BNB  2022:05:16:20:34     $299.57  https://www.coingecko.com/"
      ]
     },
     "execution_count": 19,
     "metadata": {},
     "output_type": "execute_result"
    }
   ],
   "source": [
    "import pandas as pd\n",
    "df = pd.read_csv('crypto.csv')\n",
    "df.head()"
   ]
  },
  {
   "cell_type": "code",
   "execution_count": 1,
   "metadata": {},
   "outputs": [],
   "source": [
    "import time"
   ]
  },
  {
   "cell_type": "code",
   "execution_count": 6,
   "metadata": {},
   "outputs": [],
   "source": [
    "tm = time.localtime(time.time())"
   ]
  },
  {
   "cell_type": "code",
   "execution_count": 7,
   "metadata": {},
   "outputs": [
    {
     "name": "stdout",
     "output_type": "stream",
     "text": [
      "Time:> 19:27\n"
     ]
    }
   ],
   "source": [
    "print(\"Time:> {}:{}\".format(tm.tm_hour,tm.tm_min))"
   ]
  },
  {
   "cell_type": "code",
   "execution_count": null,
   "metadata": {},
   "outputs": [],
   "source": []
  }
 ],
 "metadata": {
  "kernelspec": {
   "display_name": "Python 3",
   "language": "python",
   "name": "python3"
  },
  "language_info": {
   "codemirror_mode": {
    "name": "ipython",
    "version": 3
   },
   "file_extension": ".py",
   "mimetype": "text/x-python",
   "name": "python",
   "nbconvert_exporter": "python",
   "pygments_lexer": "ipython3",
   "version": "3.6.2"
  }
 },
 "nbformat": 4,
 "nbformat_minor": 4
}
