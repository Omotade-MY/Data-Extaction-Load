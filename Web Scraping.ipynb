{
 "cells": [
  {
   "cell_type": "markdown",
   "metadata": {},
   "source": [
    "### Introduction to Requests"
   ]
  },
  {
   "cell_type": "code",
   "execution_count": 1,
   "metadata": {},
   "outputs": [],
   "source": [
    "# -*- coding: utf-8 -*-\n",
    "\"\"\"\n",
    "Created on Mon May 16 19:54:44 2022\n",
    "\n",
    "@author: Omotade\n",
    "\"\"\"\n",
    "import requests\n",
    "from datetime import datetime\n",
    "import time\n",
    "from bs4 import BeautifulSoup\n",
    "import pandas as pd\n",
    "import os"
   ]
  },
  {
   "cell_type": "markdown",
   "metadata": {},
   "source": [
    "#### Scrape Crypto Data\n"
   ]
  },
  {
   "cell_type": "code",
   "execution_count": 2,
   "metadata": {},
   "outputs": [],
   "source": [
    "def scrape():\n",
    "    data = requests.get('https://coinmarketcap.com/all/views/all/')\n",
    "    soup = BeautifulSoup(data.content, 'html.parser')\n",
    "    \n",
    "    return soup"
   ]
  },
  {
   "cell_type": "code",
   "execution_count": 10,
   "metadata": {},
   "outputs": [],
   "source": [
    "def extract_coindata():\n",
    "    \"\"\"Extracts the current price, 24thVolume and MarketCap\n",
    "    returns a list of dictionaries where each dictionary is for each coin\"\"\"\n",
    "\n",
    "    # srape data from website\n",
    "    cryptosoup = scrape()\n",
    "    \n",
    "    # get current time after scraping\n",
    "    now = datetime.now()\n",
    "    \n",
    "    # collecting infomation needed from webpage\n",
    "    table = cryptosoup.select('table')[2]\n",
    "    headpane = table.select('thead')[0]\n",
    "    body = table.select('tbody')[0]\n",
    "    columns = []\n",
    "    \n",
    "    coin_info = []\n",
    "    heads = headpane.select('th')[1:-1]\n",
    "    for head in heads:\n",
    "        if heads.index(head) == 0:\n",
    "            col = 'CoinName'\n",
    "        else:\n",
    "            col = head.text.strip('% ')\n",
    "        columns.append(col)\n",
    "    \n",
    "    # select top 5 rows\n",
    "    data = []\n",
    "    rows = body.select('tr')[:5]\n",
    "    for r in rows:\n",
    "        row_vals = []\n",
    "        \n",
    "        row =  r.select('td')[1:-1]\n",
    "        \n",
    "        for i in range(len(row)):\n",
    "            val = row[i]\n",
    "            if i == 0:\n",
    "                val = val.select('a')[1].text\n",
    "            elif i == 2:\n",
    "                val = val.text.split('B')[1]\n",
    "            else:\n",
    "                val = val.text\n",
    "            col = columns[i]\n",
    "    \n",
    "            \n",
    "            row_vals.append(val)\n",
    "        time = now.strftime('%Y/%m/%d %H:%M')\n",
    "        \n",
    "        # save the time and website of scraping\n",
    "        row_vals.insert(2,time)\n",
    "        row_vals.append('https://coinmarketcap.com/all/views/all/')\n",
    "        info = tuple(row_vals)\n",
    "        coin_info.append(info)\n",
    "        \n",
    "    columns.insert(2,'Time')\n",
    "    columns.append('Website')\n",
    "    \n",
    "    return coin_info, columns"
   ]
  },
  {
   "cell_type": "code",
   "execution_count": 11,
   "metadata": {},
   "outputs": [],
   "source": [
    "data, cols = extract_coindata()"
   ]
  },
  {
   "cell_type": "code",
   "execution_count": 19,
   "metadata": {},
   "outputs": [],
   "source": [
    "def to_csv(coindata, columns):\n",
    "    \n",
    "    n = datetime.now()\n",
    "    n = n.strftime('%H-%M')\n",
    "    try:\n",
    "        os.mkdir('{}'.format(n))\n",
    "    except FileExistsError:\n",
    "        pass\n",
    "    \n",
    "    path = './'+ n + '/cryptocurrency.csv'\n",
    "    pd.DataFrame(coindata, columns=columns).to_csv(path, index=False)\n"
   ]
  },
  {
   "cell_type": "code",
   "execution_count": 20,
   "metadata": {},
   "outputs": [],
   "source": [
    "to_csv(data, cols)"
   ]
  },
  {
   "cell_type": "code",
   "execution_count": 18,
   "metadata": {},
   "outputs": [],
   "source": [
    "now = time.localtime(time.time()).tm_min\n",
    "endtime = now + 2\n",
    "while True:\n",
    "    if time.localtime(time.time()).tm_min >= endtime:\n",
    "        break\n",
    "    \n",
    "    coindata, columns = extract_coindata()\n",
    "    to_csv(coindata, columns)\n",
    "    \n",
    "    time.sleep(120)\n"
   ]
  },
  {
   "cell_type": "code",
   "execution_count": 8,
   "metadata": {},
   "outputs": [
    {
     "name": "stdout",
     "output_type": "stream",
     "text": [
      "sraped\n"
     ]
    }
   ],
   "source": [
    "coindata, columns = extract_coindata()\n",
    "\n",
    "print(\"sraped\")\n",
    "\n",
    "pd.DataFrame(coindata, columns=columns).to_csv('crypto.csv', index=False)"
   ]
  },
  {
   "cell_type": "code",
   "execution_count": 19,
   "metadata": {},
   "outputs": [
    {
     "data": {
      "text/html": [
       "<div>\n",
       "<style scoped>\n",
       "    .dataframe tbody tr th:only-of-type {\n",
       "        vertical-align: middle;\n",
       "    }\n",
       "\n",
       "    .dataframe tbody tr th {\n",
       "        vertical-align: top;\n",
       "    }\n",
       "\n",
       "    .dataframe thead th {\n",
       "        text-align: right;\n",
       "    }\n",
       "</style>\n",
       "<table border=\"1\" class=\"dataframe\">\n",
       "  <thead>\n",
       "    <tr style=\"text-align: right;\">\n",
       "      <th></th>\n",
       "      <th>CoinName</th>\n",
       "      <th>Coin</th>\n",
       "      <th>Time</th>\n",
       "      <th>Price</th>\n",
       "      <th>Website</th>\n",
       "    </tr>\n",
       "  </thead>\n",
       "  <tbody>\n",
       "    <tr>\n",
       "      <th>0</th>\n",
       "      <td>Bitcoin</td>\n",
       "      <td>BTC</td>\n",
       "      <td>2022:05:16:20:34</td>\n",
       "      <td>$29,809.70</td>\n",
       "      <td>https://www.coingecko.com/</td>\n",
       "    </tr>\n",
       "    <tr>\n",
       "      <th>1</th>\n",
       "      <td>Ethereum</td>\n",
       "      <td>ETH</td>\n",
       "      <td>2022:05:16:20:34</td>\n",
       "      <td>$2,028.01</td>\n",
       "      <td>https://www.coingecko.com/</td>\n",
       "    </tr>\n",
       "    <tr>\n",
       "      <th>2</th>\n",
       "      <td>Tether</td>\n",
       "      <td>USDT</td>\n",
       "      <td>2022:05:16:20:34</td>\n",
       "      <td>$1.00</td>\n",
       "      <td>https://www.coingecko.com/</td>\n",
       "    </tr>\n",
       "    <tr>\n",
       "      <th>3</th>\n",
       "      <td>Usd-Coin</td>\n",
       "      <td>USDC</td>\n",
       "      <td>2022:05:16:20:34</td>\n",
       "      <td>$1.00</td>\n",
       "      <td>https://www.coingecko.com/</td>\n",
       "    </tr>\n",
       "    <tr>\n",
       "      <th>4</th>\n",
       "      <td>Bnb</td>\n",
       "      <td>BNB</td>\n",
       "      <td>2022:05:16:20:34</td>\n",
       "      <td>$299.57</td>\n",
       "      <td>https://www.coingecko.com/</td>\n",
       "    </tr>\n",
       "  </tbody>\n",
       "</table>\n",
       "</div>"
      ],
      "text/plain": [
       "   CoinName  Coin              Time       Price                     Website\n",
       "0   Bitcoin   BTC  2022:05:16:20:34  $29,809.70  https://www.coingecko.com/\n",
       "1  Ethereum   ETH  2022:05:16:20:34   $2,028.01  https://www.coingecko.com/\n",
       "2    Tether  USDT  2022:05:16:20:34       $1.00  https://www.coingecko.com/\n",
       "3  Usd-Coin  USDC  2022:05:16:20:34       $1.00  https://www.coingecko.com/\n",
       "4       Bnb   BNB  2022:05:16:20:34     $299.57  https://www.coingecko.com/"
      ]
     },
     "execution_count": 19,
     "metadata": {},
     "output_type": "execute_result"
    }
   ],
   "source": [
    "import pandas as pd\n",
    "df = pd.read_csv('crypto.csv')\n",
    "df.head()"
   ]
  },
  {
   "cell_type": "code",
   "execution_count": 1,
   "metadata": {},
   "outputs": [],
   "source": [
    "import time"
   ]
  },
  {
   "cell_type": "code",
   "execution_count": 6,
   "metadata": {},
   "outputs": [],
   "source": [
    "tm = time.localtime(time.time())"
   ]
  },
  {
   "cell_type": "code",
   "execution_count": 7,
   "metadata": {},
   "outputs": [
    {
     "name": "stdout",
     "output_type": "stream",
     "text": [
      "Time:> 19:27\n"
     ]
    }
   ],
   "source": [
    "print(\"Time:> {}:{}\".format(tm.tm_hour,tm.tm_min))"
   ]
  },
  {
   "cell_type": "code",
   "execution_count": null,
   "metadata": {},
   "outputs": [],
   "source": []
  }
 ],
 "metadata": {
  "kernelspec": {
   "display_name": "Python 3",
   "language": "python",
   "name": "python3"
  },
  "language_info": {
   "codemirror_mode": {
    "name": "ipython",
    "version": 3
   },
   "file_extension": ".py",
   "mimetype": "text/x-python",
   "name": "python",
   "nbconvert_exporter": "python",
   "pygments_lexer": "ipython3",
   "version": "3.6.2"
  }
 },
 "nbformat": 4,
 "nbformat_minor": 4
}
